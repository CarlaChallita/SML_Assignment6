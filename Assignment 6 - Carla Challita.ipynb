{
 "cells": [
  {
   "cell_type": "markdown",
   "id": "d73e4de5",
   "metadata": {},
   "source": [
    "# Carla Challita"
   ]
  },
  {
   "cell_type": "markdown",
   "id": "a5d37859",
   "metadata": {},
   "source": [
    "## Chapter 10"
   ]
  },
  {
   "cell_type": "markdown",
   "id": "3929e750",
   "metadata": {},
   "source": [
    "### Exercise 3"
   ]
  },
  {
   "cell_type": "code",
   "execution_count": 1,
   "id": "6157818c",
   "metadata": {},
   "outputs": [
    {
     "data": {
      "image/png": "[encoded data removed]",
      "text/plain": [
       "plot without title"
      ]
     },
     "metadata": {},
     "output_type": "display_data"
    }
   ],
   "source": [
    "#Part a\n",
    "\n",
    "x <- cbind(c(1, 1, 0, 5, 6, 4), c(4, 3, 4, 1, 2, 0))\n",
    "plot(x[,1], x[,2])"
   ]
  },
  {
   "cell_type": "code",
   "execution_count": 3,
   "id": "7ae8a15f",
   "metadata": {},
   "outputs": [
    {
     "data": {
      "text/html": [
       "<ol class=list-inline>\n",
       "\t<li>1</li>\n",
       "\t<li>2</li>\n",
       "\t<li>1</li>\n",
       "\t<li>1</li>\n",
       "\t<li>2</li>\n",
       "\t<li>1</li>\n",
       "</ol>\n"
      ],
      "text/latex": [
       "\\begin{enumerate*}\n",
       "\\item 1\n",
       "\\item 2\n",
       "\\item 1\n",
       "\\item 1\n",
       "\\item 2\n",
       "\\item 1\n",
       "\\end{enumerate*}\n"
      ],
      "text/markdown": [
       "1. 1\n",
       "2. 2\n",
       "3. 1\n",
       "4. 1\n",
       "5. 2\n",
       "6. 1\n",
       "\n",
       "\n"
      ],
      "text/plain": [
       "[1] 1 2 1 1 2 1"
      ]
     },
     "metadata": {},
     "output_type": "display_data"
    }
   ],
   "source": [
    "#Part b\n",
    "\n",
    "set.seed(1)\n",
    "clusters <- sample(2, nrow(x), replace = T)\n",
    "clusters"
   ]
  },
  {
   "cell_type": "code",
   "execution_count": 4,
   "id": "35e7c69c",
   "metadata": {},
   "outputs": [
    {
     "data": {
      "image/png": "[encoded data removed]",
      "text/plain": [
       "plot without title"
      ]
     },
     "metadata": {},
     "output_type": "display_data"
    }
   ],
   "source": [
    "plot(x[, 1], x[, 2], col = (clusters + 1), pch = 20, cex = 2)"
   ]
  },
  {
   "cell_type": "code",
   "execution_count": 7,
   "id": "8db8dbaa",
   "metadata": {},
   "outputs": [],
   "source": [
    "#Part c"
   ]
  },
  {
   "cell_type": "code",
   "execution_count": 8,
   "id": "6b1e1b4b",
   "metadata": {},
   "outputs": [],
   "source": [
    "#Part d"
   ]
  },
  {
   "cell_type": "code",
   "execution_count": 9,
   "id": "98e07f37",
   "metadata": {},
   "outputs": [],
   "source": [
    "#Part e"
   ]
  },
  {
   "cell_type": "code",
   "execution_count": 10,
   "id": "3ae74125",
   "metadata": {},
   "outputs": [],
   "source": [
    "#Part f "
   ]
  },
  {
   "cell_type": "markdown",
   "id": "6d6c720f",
   "metadata": {},
   "source": [
    "### Exercise 4"
   ]
  },
  {
   "cell_type": "code",
   "execution_count": 11,
   "id": "b19d0b7a",
   "metadata": {},
   "outputs": [],
   "source": [
    "#Part a\n",
    "#There is not enough information to answer since with single linkage dendrogram and complete linkage dendrogram for the clusters\n",
    "#mentioned, different results are obtained in different cases and cannot be compared."
   ]
  },
  {
   "cell_type": "code",
   "execution_count": 12,
   "id": "581a925d",
   "metadata": {},
   "outputs": [],
   "source": [
    "#Part b\n",
    "#They would fuse at the same time for single and complete linkage."
   ]
  },
  {
   "cell_type": "markdown",
   "id": "b2c1522f",
   "metadata": {},
   "source": [
    "### Exercise 8"
   ]
  },
  {
   "cell_type": "code",
   "execution_count": 15,
   "id": "b8604e89",
   "metadata": {},
   "outputs": [
    {
     "data": {
      "text/html": [
       "<table>\n",
       "<thead><tr><th></th><th scope=col>Murder</th><th scope=col>Assault</th><th scope=col>UrbanPop</th><th scope=col>Rape</th></tr></thead>\n",
       "<tbody>\n",
       "\t<tr><th scope=row>Alabama</th><td>13.2</td><td>236 </td><td>58  </td><td>21.2</td></tr>\n",
       "\t<tr><th scope=row>Alaska</th><td>10.0</td><td>263 </td><td>48  </td><td>44.5</td></tr>\n",
       "\t<tr><th scope=row>Arizona</th><td> 8.1</td><td>294 </td><td>80  </td><td>31.0</td></tr>\n",
       "\t<tr><th scope=row>Arkansas</th><td> 8.8</td><td>190 </td><td>50  </td><td>19.5</td></tr>\n",
       "\t<tr><th scope=row>California</th><td> 9.0</td><td>276 </td><td>91  </td><td>40.6</td></tr>\n",
       "\t<tr><th scope=row>Colorado</th><td> 7.9</td><td>204 </td><td>78  </td><td>38.7</td></tr>\n",
       "</tbody>\n",
       "</table>\n"
      ],
      "text/latex": [
       "\\begin{tabular}{r|llll}\n",
       "  & Murder & Assault & UrbanPop & Rape\\\\\n",
       "\\hline\n",
       "\tAlabama & 13.2 & 236  & 58   & 21.2\\\\\n",
       "\tAlaska & 10.0 & 263  & 48   & 44.5\\\\\n",
       "\tArizona &  8.1 & 294  & 80   & 31.0\\\\\n",
       "\tArkansas &  8.8 & 190  & 50   & 19.5\\\\\n",
       "\tCalifornia &  9.0 & 276  & 91   & 40.6\\\\\n",
       "\tColorado &  7.9 & 204  & 78   & 38.7\\\\\n",
       "\\end{tabular}\n"
      ],
      "text/markdown": [
       "\n",
       "| <!--/--> | Murder | Assault | UrbanPop | Rape |\n",
       "|---|---|---|---|---|\n",
       "| Alabama | 13.2 | 236  | 58   | 21.2 |\n",
       "| Alaska | 10.0 | 263  | 48   | 44.5 |\n",
       "| Arizona |  8.1 | 294  | 80   | 31.0 |\n",
       "| Arkansas |  8.8 | 190  | 50   | 19.5 |\n",
       "| California |  9.0 | 276  | 91   | 40.6 |\n",
       "| Colorado |  7.9 | 204  | 78   | 38.7 |\n",
       "\n"
      ],
      "text/plain": [
       "           Murder Assault UrbanPop Rape\n",
       "Alabama    13.2   236     58       21.2\n",
       "Alaska     10.0   263     48       44.5\n",
       "Arizona     8.1   294     80       31.0\n",
       "Arkansas    8.8   190     50       19.5\n",
       "California  9.0   276     91       40.6\n",
       "Colorado    7.9   204     78       38.7"
      ]
     },
     "metadata": {},
     "output_type": "display_data"
    }
   ],
   "source": [
    "head(USArrests)"
   ]
  },
  {
   "cell_type": "code",
   "execution_count": 13,
   "id": "82451e8d",
   "metadata": {},
   "outputs": [
    {
     "data": {
      "text/html": [
       "4"
      ],
      "text/latex": [
       "4"
      ],
      "text/markdown": [
       "4"
      ],
      "text/plain": [
       "[1] 4"
      ]
     },
     "metadata": {},
     "output_type": "display_data"
    }
   ],
   "source": [
    "#Part a\n",
    "pr.out <- prcomp(USArrests, scale = TRUE)\n",
    "pr.var <- pr.out$sdev^2\n",
    "pve <- pr.var / sum(pr.var)\n",
    "sum(pr.var)"
   ]
  },
  {
   "cell_type": "code",
   "execution_count": 14,
   "id": "243d2332",
   "metadata": {},
   "outputs": [
    {
     "data": {
      "text/html": [
       "<ol class=list-inline>\n",
       "\t<li>0.620060394787373</li>\n",
       "\t<li>0.24744128813496</li>\n",
       "\t<li>0.0891407951452075</li>\n",
       "\t<li>0.0433575219324588</li>\n",
       "</ol>\n"
      ],
      "text/latex": [
       "\\begin{enumerate*}\n",
       "\\item 0.620060394787373\n",
       "\\item 0.24744128813496\n",
       "\\item 0.0891407951452075\n",
       "\\item 0.0433575219324588\n",
       "\\end{enumerate*}\n"
      ],
      "text/markdown": [
       "1. 0.620060394787373\n",
       "2. 0.24744128813496\n",
       "3. 0.0891407951452075\n",
       "4. 0.0433575219324588\n",
       "\n",
       "\n"
      ],
      "text/plain": [
       "[1] 0.62006039 0.24744129 0.08914080 0.04335752"
      ]
     },
     "metadata": {},
     "output_type": "display_data"
    }
   ],
   "source": [
    "pve"
   ]
  },
  {
   "cell_type": "code",
   "execution_count": 16,
   "id": "6b7a0510",
   "metadata": {},
   "outputs": [
    {
     "data": {
      "text/html": [
       "<dl class=dl-horizontal>\n",
       "\t<dt>PC1</dt>\n",
       "\t\t<dd>0.620060394787374</dd>\n",
       "\t<dt>PC2</dt>\n",
       "\t\t<dd>0.24744128813496</dd>\n",
       "\t<dt>PC3</dt>\n",
       "\t\t<dd>0.0891407951452075</dd>\n",
       "\t<dt>PC4</dt>\n",
       "\t\t<dd>0.0433575219324588</dd>\n",
       "</dl>\n"
      ],
      "text/latex": [
       "\\begin{description*}\n",
       "\\item[PC1] 0.620060394787374\n",
       "\\item[PC2] 0.24744128813496\n",
       "\\item[PC3] 0.0891407951452075\n",
       "\\item[PC4] 0.0433575219324588\n",
       "\\end{description*}\n"
      ],
      "text/markdown": [
       "PC1\n",
       ":   0.620060394787374PC2\n",
       ":   0.24744128813496PC3\n",
       ":   0.0891407951452075PC4\n",
       ":   0.0433575219324588\n",
       "\n"
      ],
      "text/plain": [
       "       PC1        PC2        PC3        PC4 \n",
       "0.62006039 0.24744129 0.08914080 0.04335752 "
      ]
     },
     "metadata": {},
     "output_type": "display_data"
    }
   ],
   "source": [
    "#Part b\n",
    "loadings <- pr.out$rotation\n",
    "USArrests_2 <- scale(USArrests)\n",
    "sumvar <- sum(apply(as.matrix(USArrests_2)^2, 2, sum))\n",
    "apply((as.matrix(USArrests_2) %*% loadings)^2, 2, sum) / sumvar"
   ]
  },
  {
   "cell_type": "markdown",
   "id": "3dd7317b",
   "metadata": {},
   "source": [
    "### Exercise 9"
   ]
  },
  {
   "cell_type": "code",
   "execution_count": 17,
   "id": "9095ed99",
   "metadata": {},
   "outputs": [
    {
     "data": {
      "image/png": "[encoded data removed]",
      "text/plain": [
       "Plot with title \"Cluster Dendrogram\""
      ]
     },
     "metadata": {},
     "output_type": "display_data"
    }
   ],
   "source": [
    "#Part a\n",
    "set.seed(2)\n",
    "hc_complete <- hclust(dist(USArrests), method = \"complete\")\n",
    "plot(hc_complete)"
   ]
  },
  {
   "cell_type": "code",
   "execution_count": 18,
   "id": "2b4262f1",
   "metadata": {},
   "outputs": [
    {
     "data": {
      "text/html": [
       "<dl class=dl-horizontal>\n",
       "\t<dt>Alabama</dt>\n",
       "\t\t<dd>1</dd>\n",
       "\t<dt>Alaska</dt>\n",
       "\t\t<dd>1</dd>\n",
       "\t<dt>Arizona</dt>\n",
       "\t\t<dd>1</dd>\n",
       "\t<dt>Arkansas</dt>\n",
       "\t\t<dd>2</dd>\n",
       "\t<dt>California</dt>\n",
       "\t\t<dd>1</dd>\n",
       "\t<dt>Colorado</dt>\n",
       "\t\t<dd>2</dd>\n",
       "\t<dt>Connecticut</dt>\n",
       "\t\t<dd>3</dd>\n",
       "\t<dt>Delaware</dt>\n",
       "\t\t<dd>1</dd>\n",
       "\t<dt>Florida</dt>\n",
       "\t\t<dd>1</dd>\n",
       "\t<dt>Georgia</dt>\n",
       "\t\t<dd>2</dd>\n",
       "\t<dt>Hawaii</dt>\n",
       "\t\t<dd>3</dd>\n",
       "\t<dt>Idaho</dt>\n",
       "\t\t<dd>3</dd>\n",
       "\t<dt>Illinois</dt>\n",
       "\t\t<dd>1</dd>\n",
       "\t<dt>Indiana</dt>\n",
       "\t\t<dd>3</dd>\n",
       "\t<dt>Iowa</dt>\n",
       "\t\t<dd>3</dd>\n",
       "\t<dt>Kansas</dt>\n",
       "\t\t<dd>3</dd>\n",
       "\t<dt>Kentucky</dt>\n",
       "\t\t<dd>3</dd>\n",
       "\t<dt>Louisiana</dt>\n",
       "\t\t<dd>1</dd>\n",
       "\t<dt>Maine</dt>\n",
       "\t\t<dd>3</dd>\n",
       "\t<dt>Maryland</dt>\n",
       "\t\t<dd>1</dd>\n",
       "\t<dt>Massachusetts</dt>\n",
       "\t\t<dd>2</dd>\n",
       "\t<dt>Michigan</dt>\n",
       "\t\t<dd>1</dd>\n",
       "\t<dt>Minnesota</dt>\n",
       "\t\t<dd>3</dd>\n",
       "\t<dt>Mississippi</dt>\n",
       "\t\t<dd>1</dd>\n",
       "\t<dt>Missouri</dt>\n",
       "\t\t<dd>2</dd>\n",
       "\t<dt>Montana</dt>\n",
       "\t\t<dd>3</dd>\n",
       "\t<dt>Nebraska</dt>\n",
       "\t\t<dd>3</dd>\n",
       "\t<dt>Nevada</dt>\n",
       "\t\t<dd>1</dd>\n",
       "\t<dt>New Hampshire</dt>\n",
       "\t\t<dd>3</dd>\n",
       "\t<dt>New Jersey</dt>\n",
       "\t\t<dd>2</dd>\n",
       "\t<dt>New Mexico</dt>\n",
       "\t\t<dd>1</dd>\n",
       "\t<dt>New York</dt>\n",
       "\t\t<dd>1</dd>\n",
       "\t<dt>North Carolina</dt>\n",
       "\t\t<dd>1</dd>\n",
       "\t<dt>North Dakota</dt>\n",
       "\t\t<dd>3</dd>\n",
       "\t<dt>Ohio</dt>\n",
       "\t\t<dd>3</dd>\n",
       "\t<dt>Oklahoma</dt>\n",
       "\t\t<dd>2</dd>\n",
       "\t<dt>Oregon</dt>\n",
       "\t\t<dd>2</dd>\n",
       "\t<dt>Pennsylvania</dt>\n",
       "\t\t<dd>3</dd>\n",
       "\t<dt>Rhode Island</dt>\n",
       "\t\t<dd>2</dd>\n",
       "\t<dt>South Carolina</dt>\n",
       "\t\t<dd>1</dd>\n",
       "\t<dt>South Dakota</dt>\n",
       "\t\t<dd>3</dd>\n",
       "\t<dt>Tennessee</dt>\n",
       "\t\t<dd>2</dd>\n",
       "\t<dt>Texas</dt>\n",
       "\t\t<dd>2</dd>\n",
       "\t<dt>Utah</dt>\n",
       "\t\t<dd>3</dd>\n",
       "\t<dt>Vermont</dt>\n",
       "\t\t<dd>3</dd>\n",
       "\t<dt>Virginia</dt>\n",
       "\t\t<dd>2</dd>\n",
       "\t<dt>Washington</dt>\n",
       "\t\t<dd>2</dd>\n",
       "\t<dt>West Virginia</dt>\n",
       "\t\t<dd>3</dd>\n",
       "\t<dt>Wisconsin</dt>\n",
       "\t\t<dd>3</dd>\n",
       "\t<dt>Wyoming</dt>\n",
       "\t\t<dd>2</dd>\n",
       "</dl>\n"
      ],
      "text/latex": [
       "\\begin{description*}\n",
       "\\item[Alabama] 1\n",
       "\\item[Alaska] 1\n",
       "\\item[Arizona] 1\n",
       "\\item[Arkansas] 2\n",
       "\\item[California] 1\n",
       "\\item[Colorado] 2\n",
       "\\item[Connecticut] 3\n",
       "\\item[Delaware] 1\n",
       "\\item[Florida] 1\n",
       "\\item[Georgia] 2\n",
       "\\item[Hawaii] 3\n",
       "\\item[Idaho] 3\n",
       "\\item[Illinois] 1\n",
       "\\item[Indiana] 3\n",
       "\\item[Iowa] 3\n",
       "\\item[Kansas] 3\n",
       "\\item[Kentucky] 3\n",
       "\\item[Louisiana] 1\n",
       "\\item[Maine] 3\n",
       "\\item[Maryland] 1\n",
       "\\item[Massachusetts] 2\n",
       "\\item[Michigan] 1\n",
       "\\item[Minnesota] 3\n",
       "\\item[Mississippi] 1\n",
       "\\item[Missouri] 2\n",
       "\\item[Montana] 3\n",
       "\\item[Nebraska] 3\n",
       "\\item[Nevada] 1\n",
       "\\item[New Hampshire] 3\n",
       "\\item[New Jersey] 2\n",
       "\\item[New Mexico] 1\n",
       "\\item[New York] 1\n",
       "\\item[North Carolina] 1\n",
       "\\item[North Dakota] 3\n",
       "\\item[Ohio] 3\n",
       "\\item[Oklahoma] 2\n",
       "\\item[Oregon] 2\n",
       "\\item[Pennsylvania] 3\n",
       "\\item[Rhode Island] 2\n",
       "\\item[South Carolina] 1\n",
       "\\item[South Dakota] 3\n",
       "\\item[Tennessee] 2\n",
       "\\item[Texas] 2\n",
       "\\item[Utah] 3\n",
       "\\item[Vermont] 3\n",
       "\\item[Virginia] 2\n",
       "\\item[Washington] 2\n",
       "\\item[West Virginia] 3\n",
       "\\item[Wisconsin] 3\n",
       "\\item[Wyoming] 2\n",
       "\\end{description*}\n"
      ],
      "text/markdown": [
       "Alabama\n",
       ":   1Alaska\n",
       ":   1Arizona\n",
       ":   1Arkansas\n",
       ":   2California\n",
       ":   1Colorado\n",
       ":   2Connecticut\n",
       ":   3Delaware\n",
       ":   1Florida\n",
       ":   1Georgia\n",
       ":   2Hawaii\n",
       ":   3Idaho\n",
       ":   3Illinois\n",
       ":   1Indiana\n",
       ":   3Iowa\n",
       ":   3Kansas\n",
       ":   3Kentucky\n",
       ":   3Louisiana\n",
       ":   1Maine\n",
       ":   3Maryland\n",
       ":   1Massachusetts\n",
       ":   2Michigan\n",
       ":   1Minnesota\n",
       ":   3Mississippi\n",
       ":   1Missouri\n",
       ":   2Montana\n",
       ":   3Nebraska\n",
       ":   3Nevada\n",
       ":   1New Hampshire\n",
       ":   3New Jersey\n",
       ":   2New Mexico\n",
       ":   1New York\n",
       ":   1North Carolina\n",
       ":   1North Dakota\n",
       ":   3Ohio\n",
       ":   3Oklahoma\n",
       ":   2Oregon\n",
       ":   2Pennsylvania\n",
       ":   3Rhode Island\n",
       ":   2South Carolina\n",
       ":   1South Dakota\n",
       ":   3Tennessee\n",
       ":   2Texas\n",
       ":   2Utah\n",
       ":   3Vermont\n",
       ":   3Virginia\n",
       ":   2Washington\n",
       ":   2West Virginia\n",
       ":   3Wisconsin\n",
       ":   3Wyoming\n",
       ":   2\n",
       "\n"
      ],
      "text/plain": [
       "       Alabama         Alaska        Arizona       Arkansas     California \n",
       "             1              1              1              2              1 \n",
       "      Colorado    Connecticut       Delaware        Florida        Georgia \n",
       "             2              3              1              1              2 \n",
       "        Hawaii          Idaho       Illinois        Indiana           Iowa \n",
       "             3              3              1              3              3 \n",
       "        Kansas       Kentucky      Louisiana          Maine       Maryland \n",
       "             3              3              1              3              1 \n",
       " Massachusetts       Michigan      Minnesota    Mississippi       Missouri \n",
       "             2              1              3              1              2 \n",
       "       Montana       Nebraska         Nevada  New Hampshire     New Jersey \n",
       "             3              3              1              3              2 \n",
       "    New Mexico       New York North Carolina   North Dakota           Ohio \n",
       "             1              1              1              3              3 \n",
       "      Oklahoma         Oregon   Pennsylvania   Rhode Island South Carolina \n",
       "             2              2              3              2              1 \n",
       "  South Dakota      Tennessee          Texas           Utah        Vermont \n",
       "             3              2              2              3              3 \n",
       "      Virginia     Washington  West Virginia      Wisconsin        Wyoming \n",
       "             2              2              3              3              2 "
      ]
     },
     "metadata": {},
     "output_type": "display_data"
    }
   ],
   "source": [
    "#Part b\n",
    "cutree(hc_complete, 3)"
   ]
  },
  {
   "cell_type": "code",
   "execution_count": 19,
   "id": "4745345e",
   "metadata": {},
   "outputs": [
    {
     "data": {
      "image/png": "[encoded data removed]",
      "text/plain": [
       "Plot with title \"Cluster Dendrogram\""
      ]
     },
     "metadata": {},
     "output_type": "display_data"
    }
   ],
   "source": [
    "#Part c\n",
    "sdv_data <- scale(USArrests)\n",
    "hc_complete_sdv <- hclust(dist(sdv_data), method = \"complete\")\n",
    "plot(hc_complete_sdv)"
   ]
  },
  {
   "cell_type": "code",
   "execution_count": 20,
   "id": "e20a5f63",
   "metadata": {},
   "outputs": [
    {
     "data": {
      "text/html": [
       "<dl class=dl-horizontal>\n",
       "\t<dt>Alabama</dt>\n",
       "\t\t<dd>1</dd>\n",
       "\t<dt>Alaska</dt>\n",
       "\t\t<dd>1</dd>\n",
       "\t<dt>Arizona</dt>\n",
       "\t\t<dd>2</dd>\n",
       "\t<dt>Arkansas</dt>\n",
       "\t\t<dd>3</dd>\n",
       "\t<dt>California</dt>\n",
       "\t\t<dd>2</dd>\n",
       "\t<dt>Colorado</dt>\n",
       "\t\t<dd>2</dd>\n",
       "\t<dt>Connecticut</dt>\n",
       "\t\t<dd>3</dd>\n",
       "\t<dt>Delaware</dt>\n",
       "\t\t<dd>3</dd>\n",
       "\t<dt>Florida</dt>\n",
       "\t\t<dd>2</dd>\n",
       "\t<dt>Georgia</dt>\n",
       "\t\t<dd>1</dd>\n",
       "\t<dt>Hawaii</dt>\n",
       "\t\t<dd>3</dd>\n",
       "\t<dt>Idaho</dt>\n",
       "\t\t<dd>3</dd>\n",
       "\t<dt>Illinois</dt>\n",
       "\t\t<dd>2</dd>\n",
       "\t<dt>Indiana</dt>\n",
       "\t\t<dd>3</dd>\n",
       "\t<dt>Iowa</dt>\n",
       "\t\t<dd>3</dd>\n",
       "\t<dt>Kansas</dt>\n",
       "\t\t<dd>3</dd>\n",
       "\t<dt>Kentucky</dt>\n",
       "\t\t<dd>3</dd>\n",
       "\t<dt>Louisiana</dt>\n",
       "\t\t<dd>1</dd>\n",
       "\t<dt>Maine</dt>\n",
       "\t\t<dd>3</dd>\n",
       "\t<dt>Maryland</dt>\n",
       "\t\t<dd>2</dd>\n",
       "\t<dt>Massachusetts</dt>\n",
       "\t\t<dd>3</dd>\n",
       "\t<dt>Michigan</dt>\n",
       "\t\t<dd>2</dd>\n",
       "\t<dt>Minnesota</dt>\n",
       "\t\t<dd>3</dd>\n",
       "\t<dt>Mississippi</dt>\n",
       "\t\t<dd>1</dd>\n",
       "\t<dt>Missouri</dt>\n",
       "\t\t<dd>3</dd>\n",
       "\t<dt>Montana</dt>\n",
       "\t\t<dd>3</dd>\n",
       "\t<dt>Nebraska</dt>\n",
       "\t\t<dd>3</dd>\n",
       "\t<dt>Nevada</dt>\n",
       "\t\t<dd>2</dd>\n",
       "\t<dt>New Hampshire</dt>\n",
       "\t\t<dd>3</dd>\n",
       "\t<dt>New Jersey</dt>\n",
       "\t\t<dd>3</dd>\n",
       "\t<dt>New Mexico</dt>\n",
       "\t\t<dd>2</dd>\n",
       "\t<dt>New York</dt>\n",
       "\t\t<dd>2</dd>\n",
       "\t<dt>North Carolina</dt>\n",
       "\t\t<dd>1</dd>\n",
       "\t<dt>North Dakota</dt>\n",
       "\t\t<dd>3</dd>\n",
       "\t<dt>Ohio</dt>\n",
       "\t\t<dd>3</dd>\n",
       "\t<dt>Oklahoma</dt>\n",
       "\t\t<dd>3</dd>\n",
       "\t<dt>Oregon</dt>\n",
       "\t\t<dd>3</dd>\n",
       "\t<dt>Pennsylvania</dt>\n",
       "\t\t<dd>3</dd>\n",
       "\t<dt>Rhode Island</dt>\n",
       "\t\t<dd>3</dd>\n",
       "\t<dt>South Carolina</dt>\n",
       "\t\t<dd>1</dd>\n",
       "\t<dt>South Dakota</dt>\n",
       "\t\t<dd>3</dd>\n",
       "\t<dt>Tennessee</dt>\n",
       "\t\t<dd>1</dd>\n",
       "\t<dt>Texas</dt>\n",
       "\t\t<dd>2</dd>\n",
       "\t<dt>Utah</dt>\n",
       "\t\t<dd>3</dd>\n",
       "\t<dt>Vermont</dt>\n",
       "\t\t<dd>3</dd>\n",
       "\t<dt>Virginia</dt>\n",
       "\t\t<dd>3</dd>\n",
       "\t<dt>Washington</dt>\n",
       "\t\t<dd>3</dd>\n",
       "\t<dt>West Virginia</dt>\n",
       "\t\t<dd>3</dd>\n",
       "\t<dt>Wisconsin</dt>\n",
       "\t\t<dd>3</dd>\n",
       "\t<dt>Wyoming</dt>\n",
       "\t\t<dd>3</dd>\n",
       "</dl>\n"
      ],
      "text/latex": [
       "\\begin{description*}\n",
       "\\item[Alabama] 1\n",
       "\\item[Alaska] 1\n",
       "\\item[Arizona] 2\n",
       "\\item[Arkansas] 3\n",
       "\\item[California] 2\n",
       "\\item[Colorado] 2\n",
       "\\item[Connecticut] 3\n",
       "\\item[Delaware] 3\n",
       "\\item[Florida] 2\n",
       "\\item[Georgia] 1\n",
       "\\item[Hawaii] 3\n",
       "\\item[Idaho] 3\n",
       "\\item[Illinois] 2\n",
       "\\item[Indiana] 3\n",
       "\\item[Iowa] 3\n",
       "\\item[Kansas] 3\n",
       "\\item[Kentucky] 3\n",
       "\\item[Louisiana] 1\n",
       "\\item[Maine] 3\n",
       "\\item[Maryland] 2\n",
       "\\item[Massachusetts] 3\n",
       "\\item[Michigan] 2\n",
       "\\item[Minnesota] 3\n",
       "\\item[Mississippi] 1\n",
       "\\item[Missouri] 3\n",
       "\\item[Montana] 3\n",
       "\\item[Nebraska] 3\n",
       "\\item[Nevada] 2\n",
       "\\item[New Hampshire] 3\n",
       "\\item[New Jersey] 3\n",
       "\\item[New Mexico] 2\n",
       "\\item[New York] 2\n",
       "\\item[North Carolina] 1\n",
       "\\item[North Dakota] 3\n",
       "\\item[Ohio] 3\n",
       "\\item[Oklahoma] 3\n",
       "\\item[Oregon] 3\n",
       "\\item[Pennsylvania] 3\n",
       "\\item[Rhode Island] 3\n",
       "\\item[South Carolina] 1\n",
       "\\item[South Dakota] 3\n",
       "\\item[Tennessee] 1\n",
       "\\item[Texas] 2\n",
       "\\item[Utah] 3\n",
       "\\item[Vermont] 3\n",
       "\\item[Virginia] 3\n",
       "\\item[Washington] 3\n",
       "\\item[West Virginia] 3\n",
       "\\item[Wisconsin] 3\n",
       "\\item[Wyoming] 3\n",
       "\\end{description*}\n"
      ],
      "text/markdown": [
       "Alabama\n",
       ":   1Alaska\n",
       ":   1Arizona\n",
       ":   2Arkansas\n",
       ":   3California\n",
       ":   2Colorado\n",
       ":   2Connecticut\n",
       ":   3Delaware\n",
       ":   3Florida\n",
       ":   2Georgia\n",
       ":   1Hawaii\n",
       ":   3Idaho\n",
       ":   3Illinois\n",
       ":   2Indiana\n",
       ":   3Iowa\n",
       ":   3Kansas\n",
       ":   3Kentucky\n",
       ":   3Louisiana\n",
       ":   1Maine\n",
       ":   3Maryland\n",
       ":   2Massachusetts\n",
       ":   3Michigan\n",
       ":   2Minnesota\n",
       ":   3Mississippi\n",
       ":   1Missouri\n",
       ":   3Montana\n",
       ":   3Nebraska\n",
       ":   3Nevada\n",
       ":   2New Hampshire\n",
       ":   3New Jersey\n",
       ":   3New Mexico\n",
       ":   2New York\n",
       ":   2North Carolina\n",
       ":   1North Dakota\n",
       ":   3Ohio\n",
       ":   3Oklahoma\n",
       ":   3Oregon\n",
       ":   3Pennsylvania\n",
       ":   3Rhode Island\n",
       ":   3South Carolina\n",
       ":   1South Dakota\n",
       ":   3Tennessee\n",
       ":   1Texas\n",
       ":   2Utah\n",
       ":   3Vermont\n",
       ":   3Virginia\n",
       ":   3Washington\n",
       ":   3West Virginia\n",
       ":   3Wisconsin\n",
       ":   3Wyoming\n",
       ":   3\n",
       "\n"
      ],
      "text/plain": [
       "       Alabama         Alaska        Arizona       Arkansas     California \n",
       "             1              1              2              3              2 \n",
       "      Colorado    Connecticut       Delaware        Florida        Georgia \n",
       "             2              3              3              2              1 \n",
       "        Hawaii          Idaho       Illinois        Indiana           Iowa \n",
       "             3              3              2              3              3 \n",
       "        Kansas       Kentucky      Louisiana          Maine       Maryland \n",
       "             3              3              1              3              2 \n",
       " Massachusetts       Michigan      Minnesota    Mississippi       Missouri \n",
       "             3              2              3              1              3 \n",
       "       Montana       Nebraska         Nevada  New Hampshire     New Jersey \n",
       "             3              3              2              3              3 \n",
       "    New Mexico       New York North Carolina   North Dakota           Ohio \n",
       "             2              2              1              3              3 \n",
       "      Oklahoma         Oregon   Pennsylvania   Rhode Island South Carolina \n",
       "             3              3              3              3              1 \n",
       "  South Dakota      Tennessee          Texas           Utah        Vermont \n",
       "             3              1              2              3              3 \n",
       "      Virginia     Washington  West Virginia      Wisconsin        Wyoming \n",
       "             3              3              3              3              3 "
      ]
     },
     "metadata": {},
     "output_type": "display_data"
    }
   ],
   "source": [
    "#Part d\n",
    "cutree(hc_complete_sdv, 3)"
   ]
  },
  {
   "cell_type": "code",
   "execution_count": 21,
   "id": "79a06169",
   "metadata": {},
   "outputs": [
    {
     "data": {
      "text/plain": [
       "   \n",
       "     1  2  3\n",
       "  1  6  9  1\n",
       "  2  2  2 10\n",
       "  3  0  0 20"
      ]
     },
     "metadata": {},
     "output_type": "display_data"
    }
   ],
   "source": [
    "table(cutree(hc_complete, 3), cutree(hc_complete_sdv, 3))"
   ]
  },
  {
   "cell_type": "code",
   "execution_count": 22,
   "id": "c0b72723",
   "metadata": {},
   "outputs": [],
   "source": [
    "#Scaling the variables affects the clusters obtained."
   ]
  },
  {
   "cell_type": "markdown",
   "id": "1c79a419",
   "metadata": {},
   "source": [
    "### Exercise 10"
   ]
  },
  {
   "cell_type": "code",
   "execution_count": 23,
   "id": "2ff2828c",
   "metadata": {},
   "outputs": [],
   "source": [
    "#Part a\n",
    "set.seed(2)\n",
    "x <- matrix(rnorm(20 * 3 * 50, mean = 0, sd = 0.001), ncol = 50)\n",
    "x[1:20, 2] <- 1\n",
    "x[21:40, 1] <- 2\n",
    "x[21:40, 2] <- 2\n",
    "x[41:60, 1] <- 1\n",
    "true.labels <- c(rep(1, 20), rep(2, 20), rep(3, 20))"
   ]
  },
  {
   "cell_type": "code",
   "execution_count": 24,
   "id": "2359aabd",
   "metadata": {},
   "outputs": [
    {
     "data": {
      "image/png": "[encoded data removed]",
      "text/plain": [
       "plot without title"
      ]
     },
     "metadata": {},
     "output_type": "display_data"
    }
   ],
   "source": [
    "#Part b\n",
    "pr.out <- prcomp(x)\n",
    "plot(pr.out$x[, 1:2], col = 1:3, xlab = \"Z1\", ylab = \"Z2\", pch = 19)"
   ]
  },
  {
   "cell_type": "code",
   "execution_count": 25,
   "id": "b07a88b5",
   "metadata": {},
   "outputs": [
    {
     "data": {
      "text/plain": [
       "           \n",
       "true.labels  1  2  3\n",
       "          1  0  0 20\n",
       "          2 20  0  0\n",
       "          3  0 20  0"
      ]
     },
     "metadata": {},
     "output_type": "display_data"
    }
   ],
   "source": [
    "#Part c\n",
    "k_cluster <- kmeans(x, 3, nstart = 20)\n",
    "table(true.labels, k_cluster$cluster)\n",
    "#The observations are clustered properly"
   ]
  },
  {
   "cell_type": "code",
   "execution_count": 26,
   "id": "02d5b8f5",
   "metadata": {},
   "outputs": [
    {
     "data": {
      "text/plain": [
       "           \n",
       "true.labels  1  2\n",
       "          1 20  0\n",
       "          2  0 20\n",
       "          3 20  0"
      ]
     },
     "metadata": {},
     "output_type": "display_data"
    }
   ],
   "source": [
    "#Part d \n",
    "k_cluster <- kmeans(x, 2, nstart = 20)\n",
    "table(true.labels, k_cluster$cluster)\n",
    "#All observations of one of the clusters is absorbed in one of the two other clusters."
   ]
  },
  {
   "cell_type": "code",
   "execution_count": 27,
   "id": "fc83feac",
   "metadata": {},
   "outputs": [
    {
     "data": {
      "text/plain": [
       "           \n",
       "true.labels  1  2  3  4\n",
       "          1 11  9  0  0\n",
       "          2  0  0 20  0\n",
       "          3  0  0  0 20"
      ]
     },
     "metadata": {},
     "output_type": "display_data"
    }
   ],
   "source": [
    "#Part e\n",
    "k_cluster <- kmeans(x, 4, nstart = 20)\n",
    "table(true.labels, k_cluster$cluster)\n",
    "#The first cluster is divided into two"
   ]
  },
  {
   "cell_type": "code",
   "execution_count": 28,
   "id": "c8bfa1a4",
   "metadata": {},
   "outputs": [
    {
     "data": {
      "text/plain": [
       "           \n",
       "true.labels  1  2  3\n",
       "          1  0  0 20\n",
       "          2  0 20  0\n",
       "          3 20  0  0"
      ]
     },
     "metadata": {},
     "output_type": "display_data"
    }
   ],
   "source": [
    "#Part f\n",
    "k_cluster <- kmeans(pr.out$x[, 1:2], 3, nstart = 20)\n",
    "table(true.labels, k_cluster$cluster)\n",
    "#The observations are clustered properly"
   ]
  },
  {
   "cell_type": "code",
   "execution_count": 29,
   "id": "bb696f97",
   "metadata": {},
   "outputs": [
    {
     "data": {
      "text/plain": [
       "           \n",
       "true.labels  1  2  3\n",
       "          1  9  2  9\n",
       "          2  2 18  0\n",
       "          3  7  1 12"
      ]
     },
     "metadata": {},
     "output_type": "display_data"
    }
   ],
   "source": [
    "#Part g\n",
    "k_cluster <- kmeans(scale(x), 3, nstart = 20)\n",
    "table(true.labels, k_cluster$cluster)\n",
    "#The results got worse with unscaled data"
   ]
  }
 ],
 "metadata": {
  "kernelspec": {
   "display_name": "R",
   "language": "R",
   "name": "ir"
  },
  "language_info": {
   "codemirror_mode": "r",
   "file_extension": ".r",
   "mimetype": "text/x-r-source",
   "name": "R",
   "pygments_lexer": "r",
   "version": "3.6.1"
  }
 },
 "nbformat": 4,
 "nbformat_minor": 5
}
